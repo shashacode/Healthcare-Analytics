{
 "cells": [
  {
   "cell_type": "markdown",
   "metadata": {
    "slideshow": {
     "slide_type": "slide"
    }
   },
   "source": [
    "# Part II - (Healthcare Analytics)\n",
    "## by (Flora Oladipupo)"
   ]
  },
  {
   "cell_type": "markdown",
   "metadata": {
    "slideshow": {
     "slide_type": "slide"
    }
   },
   "source": [
    "\n",
    "\n",
    "## Investigation Overview\n",
    "\n",
    "The aim of this analysis is to determine the factors behind the Length of stay of patients in hospital \n",
    "\n",
    "## Dataset Overview\n",
    "\n",
    "The Dataset can  be downloaded from Kaggle: https://www.kaggle.com/datasets/anmolkumar/janatahack-healthcare-analytics-part-2?select=train.csv\n",
    "\n",
    "| Column | Description |\n",
    "| --- | --- |\n",
    "| case_id | Case_ID registered in Hospital |\n",
    "| Hospital_code| Unique code for the Hospital |\n",
    "| Hospital_type_code|Unique code for the type of Hospital |\n",
    "| City_Code_Hospital|Code of the Hospital |\n",
    "| Hospital_region_code|Region Code of the Hospital |\n",
    "| Available Extra Rooms in Hospital|Number of Extra rooms available in the Hospital |\n",
    "| Department|Department overlooking the case|\n",
    "|Ward_Type|Code for the Ward type|\n",
    "| Ward_Facility_Code|Code for the Ward Facility|\n",
    "| Bed Grade|Condition of Bed in the Ward|\n",
    "| patientid|Unique Patient Id|\n",
    "| City_Code_Patient|City Code for the patient|\n",
    "| Type of Admission|Admission Type registered by the Hospital|\n",
    "| Severity of Illness|Severity of the illness recorded at the time of admission|\n",
    "| Visitors with Patient|Number of Visitors with the patient|\n",
    "| Age|Age of the patient|\n",
    "| Admission_Deposit|Deposit at the Admission Time|\n",
    "| Stay|Stay Days by the patient|\n"
   ]
  },
  {
   "cell_type": "code",
   "execution_count": 1,
   "metadata": {
    "slideshow": {
     "slide_type": "skip"
    }
   },
   "outputs": [],
   "source": [
    "# import all packages and set plots to be embedded inline\n",
    "import numpy as np\n",
    "import pandas as pd\n",
    "import matplotlib.pyplot as plt\n",
    "import seaborn as sns\n",
    "\n",
    "%matplotlib inline\n",
    "\n",
    "# suppress warnings from final output\n",
    "import warnings\n",
    "warnings.simplefilter(\"ignore\")"
   ]
  },
  {
   "cell_type": "code",
   "execution_count": 2,
   "metadata": {
    "slideshow": {
     "slide_type": "skip"
    }
   },
   "outputs": [],
   "source": [
    "# load in the dataset into a pandas dataframe\n",
    "df = pd.read_csv('Health.csv')"
   ]
  },
  {
   "cell_type": "code",
   "execution_count": 3,
   "metadata": {
    "slideshow": {
     "slide_type": "skip"
    }
   },
   "outputs": [],
   "source": [
    "#renaming column\n",
    "df = df.rename(columns={'Available Extra Rooms in Hospital':'Extra_Rooms', 'Type of Admission':'Type_of_Admission', 'Severity of Illness':'Severity_of_Illness','Bed Grade':'Bed_Grade','Visitors with Patient':'Visitors_with_Patient'})"
   ]
  },
  {
   "cell_type": "code",
   "execution_count": 4,
   "metadata": {
    "slideshow": {
     "slide_type": "skip"
    }
   },
   "outputs": [
    {
     "data": {
      "text/plain": [
       "case_id                     0\n",
       "Hospital_code               0\n",
       "Hospital_type_code          0\n",
       "City_Code_Hospital          0\n",
       "Hospital_region_code        0\n",
       "Extra_Rooms                 0\n",
       "Department                  0\n",
       "Ward_Type                   0\n",
       "Ward_Facility_Code          0\n",
       "Bed_Grade                 113\n",
       "patientid                   0\n",
       "City_Code_Patient        4532\n",
       "Type_of_Admission           0\n",
       "Severity_of_Illness         0\n",
       "Visitors_with_Patient       0\n",
       "Age                         0\n",
       "Admission_Deposit           0\n",
       "Stay                        0\n",
       "dtype: int64"
      ]
     },
     "execution_count": 4,
     "metadata": {},
     "output_type": "execute_result"
    }
   ],
   "source": [
    "df.isnull().sum()"
   ]
  },
  {
   "cell_type": "code",
   "execution_count": 5,
   "metadata": {
    "slideshow": {
     "slide_type": "skip"
    }
   },
   "outputs": [],
   "source": [
    "df = df.dropna(axis = 1)"
   ]
  },
  {
   "cell_type": "markdown",
   "metadata": {
    "slideshow": {
     "slide_type": "skip"
    }
   },
   "source": [
    "> Note that the above cells have been set as \"Skip\"-type slides. That means\n",
    "that when the notebook is rendered as http slides, those cells won't show up."
   ]
  },
  {
   "cell_type": "code",
   "execution_count": 6,
   "metadata": {
    "slideshow": {
     "slide_type": "subslide"
    }
   },
   "outputs": [],
   "source": [
    "# convert categorical data into ordered categorical data\n",
    "ordinal_data = {'Hospital_type_code': ['g','f','e','d','c','b','a'],\n",
    "                    'Hospital_region_code': ['Z', 'Y', 'X'],\n",
    "                    'Ward_Type': ['U', 'T', 'S', 'R', 'Q', 'P'],\n",
    "                   'Ward_Facility_Code':['F','E','D','C','B','A'],\n",
    "                   'Severity_of_Illness':['Extreme','Moderate','Minor'],\n",
    "                   'Type_of_Admission':['Emergency','Urgent','Trauma'],\n",
    "                   'Age':['0-10', '11-20', '21-30', '31-40', '41-50', '51-60', '61-70', '71-80', '81-90', '91-100'],\n",
    "                   'Stay':['More than 100 Days','91-100','81-90','71-80','61-70','51-60','41-50','31-40','21-30',\n",
    "                           '11-20','0-10']}\n",
    "\n",
    "for ordi in ordinal_data:\n",
    "    cat = pd.CategoricalDtype(ordered = True,categories = ordinal_data[ordi])\n",
    "    df[ordi] = df[ordi].astype(cat)"
   ]
  },
  {
   "cell_type": "code",
   "execution_count": 7,
   "metadata": {
    "slideshow": {
     "slide_type": "subslide"
    }
   },
   "outputs": [],
   "source": [
    "#a function is created to avoid repeating code for plots\n",
    "def chart(x_label,y_label,title):\n",
    "    plt.title(title)\n",
    "    plt.xlabel(x_label)\n",
    "    plt.ylabel(y_label)"
   ]
  },
  {
   "cell_type": "markdown",
   "metadata": {
    "slideshow": {
     "slide_type": "slide"
    }
   },
   "source": [
    "## (Visualization 1)\n",
    "\n",
    "### Pattern associated with Length of stay\n",
    "This answer the question of what the most usual length of stay at the hospital is"
   ]
  },
  {
   "cell_type": "code",
   "execution_count": 8,
   "metadata": {
    "slideshow": {
     "slide_type": "subslide"
    }
   },
   "outputs": [
    {
     "data": {
      "image/png": "[encoded data removed]",
      "text/plain": [
       "<Figure size 432x288 with 1 Axes>"
      ]
     },
     "metadata": {
      "needs_background": "light"
     },
     "output_type": "display_data"
    }
   ],
   "source": [
    "#to count number of days stayed in the hospital\n",
    "base_color=sns.color_palette()[0]\n",
    "sns.countplot(data=df, y='Stay', color=base_color)\n",
    "chart('Count','Days stayed','Count by days stayed')"
   ]
  },
  {
   "cell_type": "markdown",
   "metadata": {
    "collapsed": true,
    "slideshow": {
     "slide_type": "slide"
    }
   },
   "source": [
    "## (Visualization 2)\n",
    "\n",
    "### Does severity of illness has to do with length of stay?"
   ]
  },
  {
   "cell_type": "code",
   "execution_count": 9,
   "metadata": {
    "slideshow": {
     "slide_type": "subslide"
    }
   },
   "outputs": [
    {
     "data": {
      "image/png": "[encoded data removed]",
      "text/plain": [
       "<Figure size 720x720 with 1 Axes>"
      ]
     },
     "metadata": {
      "needs_background": "light"
     },
     "output_type": "display_data"
    }
   ],
   "source": [
    "plt.figure(figsize = [10,10])\n",
    "sns.countplot(data = df, y = 'Stay', hue = 'Severity_of_Illness')\n",
    "chart('Count', 'Stay', 'Stay by severity')"
   ]
  },
  {
   "cell_type": "markdown",
   "metadata": {
    "slideshow": {
     "slide_type": "slide"
    }
   },
   "source": [
    "## (Visualization 3)\n",
    "\n",
    "### Age with most severity of illness"
   ]
  },
  {
   "cell_type": "code",
   "execution_count": 10,
   "metadata": {
    "slideshow": {
     "slide_type": "subslide"
    }
   },
   "outputs": [
    {
     "data": {
      "image/png": "[encoded data removed]",
      "text/plain": [
       "<Figure size 720x720 with 1 Axes>"
      ]
     },
     "metadata": {
      "needs_background": "light"
     },
     "output_type": "display_data"
    }
   ],
   "source": [
    "plt.figure(figsize = [10,10])\n",
    "sns.countplot(data = df, y = 'Age', hue = 'Severity_of_Illness')\n",
    "chart('Count of Age', 'Age', 'Severity_of_Illness')"
   ]
  },
  {
   "cell_type": "code",
   "execution_count": null,
   "metadata": {},
   "outputs": [],
   "source": []
  }
 ],
 "metadata": {
  "celltoolbar": "Slideshow",
  "kernelspec": {
   "display_name": "Python 3",
   "language": "python",
   "name": "python3"
  },
  "language_info": {
   "codemirror_mode": {
    "name": "ipython",
    "version": 3
   },
   "file_extension": ".py",
   "mimetype": "text/x-python",
   "name": "python",
   "nbconvert_exporter": "python",
   "pygments_lexer": "ipython3",
   "version": "3.10.0"
  }
 },
 "nbformat": 4,
 "nbformat_minor": 2
}
